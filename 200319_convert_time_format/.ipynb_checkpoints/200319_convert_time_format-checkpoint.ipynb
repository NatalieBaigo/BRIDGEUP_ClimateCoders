{
 "cells": [
  {
   "cell_type": "markdown",
   "metadata": {},
   "source": [
    "## Convert time format\n",
    "\n",
    "Our next step in processing our data is making our dates readable. \n",
    "\n",
    "For example:\n",
    "\n",
    "1880.5 = 1880 + ½ of a year = 1880 + 6 months = 06/1880 or June 1880\n",
    "\n",
    "**Our goal**: Convert the date column into separate columns for year and month"
   ]
  },
  {
   "cell_type": "markdown",
   "metadata": {},
   "source": [
    "### Step 1: Do it for one date \n",
    "\n",
    "**Some useful functions**\n",
    "\n",
    "numpy.ceil(**x**) : Returns the number x rounded to the closest and largest whole number\n",
    "* **x**: number or array\n",
    "\n",
    "numpy.floor(**x**) : Returns the number x rounded to the closest and smallest whole number\n",
    "* **x**: number or array\n",
    "\n",
    "numpy.round(**x**, **decimels**) : Returns the rounded number x or rounds all elements in array\n",
    "* **x**: number or array\n",
    "* **decimels**: number of decimels to round to\n",
    "\n",
    "numpy_array.astype(**data type**) : Converts elements in array to a different data type\n",
    "* **data type**: int, float, string etc"
   ]
  },
  {
   "cell_type": "code",
   "execution_count": 1,
   "metadata": {},
   "outputs": [],
   "source": [
    "import numpy as np"
   ]
  },
  {
   "cell_type": "code",
   "execution_count": 2,
   "metadata": {},
   "outputs": [
    {
     "name": "stdout",
     "output_type": "stream",
     "text": [
      "number: 2.5\n",
      "np.ceil(number): 3.0\n",
      "np.floor(number): 2.0\n",
      "np.round(number): 2.0\n",
      "\n",
      " array: [2.75 2.8  2.85 2.9  2.95 3.   3.05 3.1  3.15 3.2 ]\n",
      "np.ceil(array): [3. 3. 3. 3. 3. 3. 4. 4. 4. 4.]\n",
      "np.floor(array): [2. 2. 2. 2. 2. 2. 3. 3. 3. 3.]\n",
      "np.round(array): [3. 3. 3. 3. 3. 3. 3. 3. 3. 3.]\n",
      "\n",
      " array with elements as int: [2 2 2 2 2 2 3 3 3 3]\n"
     ]
    }
   ],
   "source": [
    "#Useful functions\n",
    "\n",
    "test = 2.5\n",
    "print('number:',test)\n",
    "print('np.ceil(number):', np.ceil(2.5))\n",
    "print('np.floor(number):', np.floor(2.5))\n",
    "print('np.round(number):', np.round(2.5,0))\n",
    "\n",
    "test_array = np.arange(2.75,3.25,0.05)\n",
    "print('\\n array:',test_array)\n",
    "print('np.ceil(array):', np.ceil(test_array))\n",
    "print('np.floor(array):', np.floor(test_array))\n",
    "print('np.round(array):', np.round(test_array,0))\n",
    "\n",
    "print('\\n array with elements as int:',test_array.astype(int))"
   ]
  },
  {
   "cell_type": "markdown",
   "metadata": {},
   "source": [
    "Let's start small. Find the year and month associated with the given test date."
   ]
  },
  {
   "cell_type": "code",
   "execution_count": 3,
   "metadata": {},
   "outputs": [
    {
     "name": "stdout",
     "output_type": "stream",
     "text": [
      "1880.5\n",
      "np.floor(year): 1880.0\n"
     ]
    }
   ],
   "source": [
    "date = 1880.5\n",
    "print(date)\n",
    "year = np.floor(date)\n",
    "print('np.floor(year):', np.floor(date))\n",
    "#What do these variables equal?\n",
    "#month = "
   ]
  },
  {
   "cell_type": "markdown",
   "metadata": {},
   "source": [
    "### Step 2: Do it for an array of dates \n",
    "\n",
    "Remember: you can run operations on numpy arrays like they are numbers\n",
    "\n",
    "For example:\n",
    "\n",
    "```A = [1 , 2, 3]```\n",
    "\n",
    "```A * 2 = [2 , 4, 6]```"
   ]
  },
  {
   "cell_type": "code",
   "execution_count": 7,
   "metadata": {},
   "outputs": [
    {
     "name": "stdout",
     "output_type": "stream",
     "text": [
      "[1880.    1880.083 1880.167 1880.25  1880.333 1880.417 1880.5   1880.583\n",
      " 1880.667 1880.75  1880.833 1880.917 1881.    1881.083 1881.167 1881.25\n",
      " 1881.333 1881.417 1881.5   1881.583 1881.667 1881.75  1881.833 1881.917\n",
      " 1882.   ]\n",
      "[ 1.  2.  3.  4.  5.  6.  7.  8.  9. 10. 11. 12. 13.  2.  3.  4.  5.  6.\n",
      "  7.  8.  9. 10. 11. 12. 13.]\n"
     ]
    }
   ],
   "source": [
    "date_array = np.arange(1880, 1882.05, 1/12)\n",
    "#print(date_array)\n",
    "#What do these arrays equal?\n",
    "year_array = np.round(date_array,3)\n",
    "year_df_floor= np.floor(year_array)\n",
    "date_array_floor= np.floor(date_array)\n",
    "month_array =np.ceil(12*(date_array-date_array_floor)+1)\n",
    "print(year_array)\n",
    "print(month_array)"
   ]
  },
  {
   "cell_type": "markdown",
   "metadata": {},
   "source": [
    "### Step 3: Do this for a Pandas data column\n",
    "\n",
    "Remember: pandas columns work exactly like numpy arrays"
   ]
  },
  {
   "cell_type": "code",
   "execution_count": 8,
   "metadata": {},
   "outputs": [],
   "source": [
    "import pandas as pd"
   ]
  },
  {
   "cell_type": "code",
   "execution_count": 9,
   "metadata": {},
   "outputs": [
    {
     "data": {
      "text/html": [
       "<div>\n",
       "<style scoped>\n",
       "    .dataframe tbody tr th:only-of-type {\n",
       "        vertical-align: middle;\n",
       "    }\n",
       "\n",
       "    .dataframe tbody tr th {\n",
       "        vertical-align: top;\n",
       "    }\n",
       "\n",
       "    .dataframe thead th {\n",
       "        text-align: right;\n",
       "    }\n",
       "</style>\n",
       "<table border=\"1\" class=\"dataframe\">\n",
       "  <thead>\n",
       "    <tr style=\"text-align: right;\">\n",
       "      <th></th>\n",
       "      <th>Date</th>\n",
       "      <th>Data</th>\n",
       "      <th>Year</th>\n",
       "      <th>Month</th>\n",
       "    </tr>\n",
       "  </thead>\n",
       "  <tbody>\n",
       "    <tr>\n",
       "      <th>0</th>\n",
       "      <td>1880.000000</td>\n",
       "      <td>0.124892</td>\n",
       "      <td>1880.0</td>\n",
       "      <td>1.0</td>\n",
       "    </tr>\n",
       "    <tr>\n",
       "      <th>1</th>\n",
       "      <td>1880.083333</td>\n",
       "      <td>0.037051</td>\n",
       "      <td>1880.0</td>\n",
       "      <td>2.0</td>\n",
       "    </tr>\n",
       "    <tr>\n",
       "      <th>2</th>\n",
       "      <td>1880.166667</td>\n",
       "      <td>0.621888</td>\n",
       "      <td>1880.0</td>\n",
       "      <td>3.0</td>\n",
       "    </tr>\n",
       "    <tr>\n",
       "      <th>3</th>\n",
       "      <td>1880.250000</td>\n",
       "      <td>0.306508</td>\n",
       "      <td>1880.0</td>\n",
       "      <td>4.0</td>\n",
       "    </tr>\n",
       "    <tr>\n",
       "      <th>4</th>\n",
       "      <td>1880.333333</td>\n",
       "      <td>0.046806</td>\n",
       "      <td>1880.0</td>\n",
       "      <td>5.0</td>\n",
       "    </tr>\n",
       "  </tbody>\n",
       "</table>\n",
       "</div>"
      ],
      "text/plain": [
       "          Date      Data    Year  Month\n",
       "0  1880.000000  0.124892  1880.0    1.0\n",
       "1  1880.083333  0.037051  1880.0    2.0\n",
       "2  1880.166667  0.621888  1880.0    3.0\n",
       "3  1880.250000  0.306508  1880.0    4.0\n",
       "4  1880.333333  0.046806  1880.0    5.0"
      ]
     },
     "execution_count": 9,
     "metadata": {},
     "output_type": "execute_result"
    }
   ],
   "source": [
    "date_df = pd.DataFrame({'Date':date_array,'Data':np.random.rand(len(date_array))})\n",
    "date_df.head()\n",
    "#What do these columns equal?\n",
    "year_array= np.floor(year_df_floor)\n",
    "date_df['Year'] = year_array\n",
    "date_df['Month']= month_array\n",
    "#date_df['Month'] =\n",
    "date_df.head()"
   ]
  },
  {
   "cell_type": "markdown",
   "metadata": {},
   "source": [
    "### Step 4: Write a function\n",
    "\n",
    "Write a function that takes any Pandas column with dates in the this format and creates a new dataframe with columns for year and month instead.  \n",
    "\n",
    "Discuss in groups about what will go into this skeleton for a function and write your pseudo-code in your lab notes.\n",
    "\n",
    "```def (function_inputs):\n",
    "    do something\n",
    "    return function_outputs```\n",
    "        "
   ]
  },
  {
   "cell_type": "code",
   "execution_count": 10,
   "metadata": {},
   "outputs": [],
   "source": [
    "#Function goes here\n",
    "def convert(df):\n",
    "    year_array = np.round(date_array,3)\n",
    "    year_df_floor= np.floor(year_array)\n",
    "    month_array =np.ceil(12*(date_array-date_array_floor)+1)\n",
    "    date_df['Year'] = year_array\n",
    "    date_df['Month']= month_array\n",
    "    return df"
   ]
  },
  {
   "cell_type": "code",
   "execution_count": 12,
   "metadata": {},
   "outputs": [
    {
     "name": "stdout",
     "output_type": "stream",
     "text": [
      "           Date      Data      Year  Month\n",
      "0   1880.000000  0.124892  1880.000    1.0\n",
      "1   1880.083333  0.037051  1880.083    2.0\n",
      "2   1880.166667  0.621888  1880.167    3.0\n",
      "3   1880.250000  0.306508  1880.250    4.0\n",
      "4   1880.333333  0.046806  1880.333    5.0\n",
      "5   1880.416667  0.211522  1880.417    6.0\n",
      "6   1880.500000  0.953217  1880.500    7.0\n",
      "7   1880.583333  0.776854  1880.583    8.0\n",
      "8   1880.666667  0.296391  1880.667    9.0\n",
      "9   1880.750000  0.354870  1880.750   10.0\n",
      "10  1880.833333  0.047125  1880.833   11.0\n",
      "11  1880.916667  0.813626  1880.917   12.0\n",
      "12  1881.000000  0.650763  1881.000   13.0\n",
      "13  1881.083333  0.595699  1881.083    2.0\n",
      "14  1881.166667  0.868120  1881.167    3.0\n",
      "15  1881.250000  0.463495  1881.250    4.0\n",
      "16  1881.333333  0.918701  1881.333    5.0\n",
      "17  1881.416667  0.030259  1881.417    6.0\n",
      "18  1881.500000  0.514246  1881.500    7.0\n",
      "19  1881.583333  0.662728  1881.583    8.0\n",
      "20  1881.666667  0.668793  1881.667    9.0\n",
      "21  1881.750000  0.736099  1881.750   10.0\n",
      "22  1881.833333  0.860713  1881.833   11.0\n",
      "23  1881.916667  0.642966  1881.917   12.0\n",
      "24  1882.000000  0.885839  1882.000   13.0\n"
     ]
    },
    {
     "data": {
      "text/plain": [
       "<bound method NDFrame.head of            Date      Data      Year  Month\n",
       "0   1880.000000  0.124892  1880.000    1.0\n",
       "1   1880.083333  0.037051  1880.083    2.0\n",
       "2   1880.166667  0.621888  1880.167    3.0\n",
       "3   1880.250000  0.306508  1880.250    4.0\n",
       "4   1880.333333  0.046806  1880.333    5.0\n",
       "5   1880.416667  0.211522  1880.417    6.0\n",
       "6   1880.500000  0.953217  1880.500    7.0\n",
       "7   1880.583333  0.776854  1880.583    8.0\n",
       "8   1880.666667  0.296391  1880.667    9.0\n",
       "9   1880.750000  0.354870  1880.750   10.0\n",
       "10  1880.833333  0.047125  1880.833   11.0\n",
       "11  1880.916667  0.813626  1880.917   12.0\n",
       "12  1881.000000  0.650763  1881.000   13.0\n",
       "13  1881.083333  0.595699  1881.083    2.0\n",
       "14  1881.166667  0.868120  1881.167    3.0\n",
       "15  1881.250000  0.463495  1881.250    4.0\n",
       "16  1881.333333  0.918701  1881.333    5.0\n",
       "17  1881.416667  0.030259  1881.417    6.0\n",
       "18  1881.500000  0.514246  1881.500    7.0\n",
       "19  1881.583333  0.662728  1881.583    8.0\n",
       "20  1881.666667  0.668793  1881.667    9.0\n",
       "21  1881.750000  0.736099  1881.750   10.0\n",
       "22  1881.833333  0.860713  1881.833   11.0\n",
       "23  1881.916667  0.642966  1881.917   12.0\n",
       "24  1882.000000  0.885839  1882.000   13.0>"
      ]
     },
     "execution_count": 12,
     "metadata": {},
     "output_type": "execute_result"
    }
   ],
   "source": [
    "print(convert(date_df))\n",
    "date_df.head"
   ]
  },
  {
   "cell_type": "code",
   "execution_count": null,
   "metadata": {},
   "outputs": [],
   "source": [
    "#Test on date_df\n",
    "def addition()"
   ]
  }
 ],
 "metadata": {
  "kernelspec": {
   "display_name": "Python 3",
   "language": "python",
   "name": "python3"
  },
  "language_info": {
   "codemirror_mode": {
    "name": "ipython",
    "version": 3
   },
   "file_extension": ".py",
   "mimetype": "text/x-python",
   "name": "python",
   "nbconvert_exporter": "python",
   "pygments_lexer": "ipython3",
   "version": "3.7.3"
  }
 },
 "nbformat": 4,
 "nbformat_minor": 4
}
